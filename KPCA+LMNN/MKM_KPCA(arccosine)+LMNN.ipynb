{
 "cells": [
  {
   "cell_type": "code",
   "execution_count": 30,
   "metadata": {},
   "outputs": [],
   "source": [
    "from sklearn.decomposition import KernelPCA\n",
    "from sklearn.neighbors import KNeighborsClassifier as KNN\n",
    "from sklearn.metrics import f1_score,accuracy_score\n",
    "from sklearn.model_selection import cross_validate\n",
    "import pandas as pd\n",
    "import numpy as np\n",
    "import xlwt\n",
    "\n",
    "import matplotlib.pyplot as plt\n",
    "from matplotlib import image\n",
    "import seaborn as sns\n",
    "from ArcCosineKernel import ArcCosineKernel0,ArcCosineKernel1,ArcCosineKernel2,ArcCosineKernel\n",
    "from sklearn.feature_selection import VarianceThreshold,SelectKBest,mutual_info_classif\n",
    "from pylmnn import LargeMarginNearestNeighbor as LMNN"
   ]
  },
  {
   "cell_type": "code",
   "execution_count": 20,
   "metadata": {},
   "outputs": [],
   "source": [
    "data = pd.read_csv('mnist_test.csv',header = None).iloc[5000:,:].sample(n=3000)\n",
    "data_X = data.iloc[:,1:].to_numpy()\n",
    "data_y = data.iloc[:,0].to_numpy()\n",
    "data_test = pd.read_csv('mnist_test.csv',header = None).iloc[:5000,:].sample(n=1000)\n",
    "data_test_X = data_test.iloc[:,1:].to_numpy()\n",
    "data_test_y = data_test.iloc[:,0].to_numpy()"
   ]
  },
  {
   "cell_type": "code",
   "execution_count": 19,
   "metadata": {},
   "outputs": [],
   "source": [
    "# parameter X: data array of shape(n_sample,n_feature)\n",
    "# parameter y: labels of shape(n_samples,)\n",
    "# parameter kernel: kernerl used for each layer (here is fixed for arccosine)\n",
    "# parameter classifier: classifier used for the output layer\n",
    "# parameter arc_order: the order of activation function and arccosine kernel\n",
    "# return the trained MKM model\n",
    "\n",
    "# classified by KNN with cv\n",
    "\n",
    "def MKM(X,y,l,kernel,arc_order,layer = 1):\n",
    "    New_X,New_y = X,y\n",
    "    print(New_X.shape)\n",
    "    train_list = []\n",
    "    KPCA_list = []\n",
    "    FS_list = []\n",
    "    w_list = []\n",
    "    for i in range(l):\n",
    "        size = New_X.shape[1]\n",
    "        # K-layer\n",
    "        train_list.append(New_X)\n",
    "        gram_train = ArcCosineKernel(New_X,New_X,arc_order)\n",
    "        KPCA = KernelPCA(n_components = size-80, kernel = kernel)\n",
    "        K_new_X,K_new_y = KPCA.fit_transform(gram_train),New_y\n",
    "        # Bookkeeping the KPCA model used in each layer\n",
    "        KPCA_list.append(KPCA)\n",
    "        # P-layer\n",
    "#         w = cv_w(K_new_X,K_new_y,range(1,4),range(10,30,5))\n",
    "#         w_list.append(w)\n",
    "#         P_new_X,P_new_y,dic_kept = mutual_info_FS(K_new_X,K_new_y,size-w)\n",
    "#         P_new_X,P_new_y,dic_kept = mutual_info_FS(K_new_X,K_new_y,size-100)\n",
    "#         P_new_X,P_new_y,dic_kept = mutual_info_FS(K_new_X,K_new_y,200)\n",
    "#         FS_list.append(dic_kept)\n",
    "#         New_X,New_y = P_new_X,P_new_y\n",
    "        New_X,New_y = K_new_X,K_new_y\n",
    "        print('Train Layer {} Done!'.format(i+1))\n",
    "        print('Data has the shape {}'.format(New_X.shape))\n",
    "    final_X, final_y =  New_X, New_y\n",
    "    lmnn = LMNN(n_neighbors=50, max_iter=100, n_components= final_X.shape[1])\n",
    "    lmnn.fit(final_X, final_y)\n",
    "    knn = KNN(n_neighbors = 10)\n",
    "    model = knn.fit(lmnn.transform(final_X), final_y)\n",
    "    print('Model has been successfully trained!')\n",
    "    print('----------------------------------------------------------------------')\n",
    "    return model,KPCA_list,FS_list,w_list,train_list"
   ]
  },
  {
   "cell_type": "code",
   "execution_count": 21,
   "metadata": {},
   "outputs": [],
   "source": [
    "# parameter X: data array of shape(n_sample,n_feature)\n",
    "# parameter y: labels of shape(n_samples,)\n",
    "# parameter data_test_X: data array of shape(n_sample,n_feature)\n",
    "# parameter data_test_y: labels of shape(n_samples,)\n",
    "# parameter l: the number of layers of kernel machines\n",
    "# parameter MKM: the trained MKM model\n",
    "# parameter kernel: kernerl used for each layer (here is fixed for arccosine)\n",
    "# parameter arc_order: the order of activation function and arccosine kernel\n",
    "# return accuracy score for test set\n",
    "\n",
    "# classified by KNN with cv\n",
    "\n",
    "def MKM__test(X,y,l,arc_order,KPCA_list,FS_list,w_list,train_list,MKM):\n",
    "    New_X,New_y = X,y\n",
    "    for i in range(l):\n",
    "        size = New_X.shape[1]\n",
    "        dic_feature = {}\n",
    "        for f in range(size):\n",
    "            dic_feature[f] = New_X[:,f]\n",
    "        # K-layer\n",
    "        gram_test = ArcCosineKernel(New_X,train_list[i],arc_order)\n",
    "        K_new_X,K_new_y = KPCA_list[i].transform(gram_test),New_y\n",
    "        # P-layer\n",
    "#         w = cv_w(K_new_X,K_new_y,range(1,15),range(10,300))\n",
    "#         P_new_X,P_new_y = mutual_info_FS(K_new_X,K_new_y,w)\n",
    "#         P_new_X,P_new_y = mutual_info_FS(K_new_X,K_new_y,209)\n",
    "#         for key in FS_list[i].keys():\n",
    "#             FS_list[i][key] = dic_feature[key]\n",
    "#         temp = np.array(list(FS_list[i].values())).T[:,:size-80-w_list[i]]\n",
    "#         temp = np.array(list(FS_list[i].values())).T[:,:size-100]\n",
    "#         P_new_X,P_new_y = temp,K_new_y\n",
    "#         New_X,New_y = P_new_X,P_new_y\n",
    "        New_X,New_y = K_new_X,K_new_y\n",
    "        print('Test Layer {} Done!'.format(i+1))\n",
    "        print('Data has the shape {}'.format(New_X.shape))\n",
    "    final_X, final_y =  New_X, New_y\n",
    "    predict_y = MKM.predict(final_X)\n",
    "    print(accuracy_score(final_y,predict_y))\n",
    "    print('Test is finished!')\n",
    "    print('----------------------------------------------------------------------')\n",
    "    return accuracy_score(final_y,predict_y)"
   ]
  },
  {
   "cell_type": "code",
   "execution_count": 22,
   "metadata": {},
   "outputs": [
    {
     "name": "stdout",
     "output_type": "stream",
     "text": [
      "(3000, 784)\n",
      "(3000, 3000)\n",
      "Train Layer 1 Done!\n",
      "Data has the shape (3000, 704)\n",
      "Model has been successfully trained!\n",
      "----------------------------------------------------------------------\n"
     ]
    }
   ],
   "source": [
    "model, KPCA_list ,FS_list,w_list,train_list= MKM(data_X,data_y,1,'precomputed',0)"
   ]
  },
  {
   "cell_type": "code",
   "execution_count": 23,
   "metadata": {},
   "outputs": [
    {
     "name": "stdout",
     "output_type": "stream",
     "text": [
      "(1000, 3000)\n",
      "Test Layer 1 Done!\n",
      "Data has the shape (1000, 704)\n",
      "0.604\n",
      "Test is finished!\n",
      "----------------------------------------------------------------------\n"
     ]
    },
    {
     "data": {
      "text/plain": [
       "0.604"
      ]
     },
     "execution_count": 23,
     "metadata": {},
     "output_type": "execute_result"
    }
   ],
   "source": [
    "MKM__test(data_test_X,data_test_y,1,0,KPCA_list,FS_list,w_list,train_list,model)"
   ]
  },
  {
   "cell_type": "code",
   "execution_count": 39,
   "metadata": {},
   "outputs": [
    {
     "name": "stdout",
     "output_type": "stream",
     "text": [
      "(3000, 784)\n",
      "(3000, 3000)\n",
      "Train Layer 1 Done!\n",
      "Data has the shape (3000, 704)\n",
      "Model has been successfully trained!\n",
      "----------------------------------------------------------------------\n",
      "(1000, 3000)\n",
      "Test Layer 1 Done!\n",
      "Data has the shape (1000, 704)\n",
      "0.561\n",
      "Test is finished!\n",
      "----------------------------------------------------------------------\n",
      "(3000, 784)\n",
      "(3000, 3000)\n",
      "Train Layer 1 Done!\n",
      "Data has the shape (3000, 704)\n",
      "Model has been successfully trained!\n",
      "----------------------------------------------------------------------\n",
      "(1000, 3000)\n",
      "Test Layer 1 Done!\n",
      "Data has the shape (1000, 704)\n",
      "0.182\n",
      "Test is finished!\n",
      "----------------------------------------------------------------------\n",
      "(3000, 784)\n",
      "(3000, 3000)\n",
      "Train Layer 1 Done!\n",
      "Data has the shape (3000, 704)\n",
      "Model has been successfully trained!\n",
      "----------------------------------------------------------------------\n",
      "(1000, 3000)\n",
      "Test Layer 1 Done!\n",
      "Data has the shape (1000, 704)\n",
      "0.404\n",
      "Test is finished!\n",
      "----------------------------------------------------------------------\n",
      "(3000, 784)\n",
      "(3000, 3000)\n",
      "Train Layer 1 Done!\n",
      "Data has the shape (3000, 704)\n",
      "Model has been successfully trained!\n",
      "----------------------------------------------------------------------\n",
      "(1000, 3000)\n",
      "Test Layer 1 Done!\n",
      "Data has the shape (1000, 704)\n",
      "0.246\n",
      "Test is finished!\n",
      "----------------------------------------------------------------------\n",
      "(3000, 784)\n",
      "(3000, 3000)\n",
      "Train Layer 1 Done!\n",
      "Data has the shape (3000, 704)\n",
      "Model has been successfully trained!\n",
      "----------------------------------------------------------------------\n",
      "(1000, 3000)\n",
      "Test Layer 1 Done!\n",
      "Data has the shape (1000, 704)\n",
      "0.495\n",
      "Test is finished!\n",
      "----------------------------------------------------------------------\n"
     ]
    }
   ],
   "source": [
    "accu_score_temp = []\n",
    "for d in range(5):\n",
    "    # load and sample the training and test dataset\n",
    "    data = pd.read_csv('mnist_test.csv',header = None).iloc[:5000,:].sample(n=3000)\n",
    "    data_X = data.iloc[:,1:].to_numpy()\n",
    "    data_y = data.iloc[:,0].to_numpy()\n",
    "    data_test = pd.read_csv('mnist_test.csv',header = None).iloc[5000:,:].sample(n=1000)\n",
    "    data_test_X = data_test.iloc[:,1:].to_numpy()\n",
    "    data_test_y = data_test.iloc[:,0].to_numpy()\n",
    "\n",
    "    model, KPCA_list ,FS_list,w_list,train_list= MKM(data_X,data_y,1,'precomputed',2)\n",
    "    accu_score_temp.append(MKM__test(data_test_X,data_test_y,1,2,KPCA_list,FS_list,w_list,train_list,model))"
   ]
  },
  {
   "cell_type": "code",
   "execution_count": null,
   "metadata": {},
   "outputs": [],
   "source": [
    "accu_score_1 = []\n",
    "# number of layers\n",
    "for i in range(6):\n",
    "    print('layer({})'.format(i))\n",
    "    # datasets test to ensure robust\n",
    "    accu_score_temp = []\n",
    "    for d in range(5):\n",
    "        # load and sample the training and test dataset\n",
    "        data = pd.read_csv('mnist_test.csv',header = None).iloc[:5000,:].sample(n=3000)\n",
    "        data_X = data.iloc[:,1:].to_numpy()\n",
    "        data_y = data.iloc[:,0].to_numpy()\n",
    "        data_test = pd.read_csv('mnist_test.csv',header = None).iloc[5000:,:].sample(n=1000)\n",
    "        data_test_X = data_test.iloc[:,1:].to_numpy()\n",
    "        data_test_y = data_test.iloc[:,0].to_numpy()\n",
    "        \n",
    "        model, KPCA_list ,FS_list,w_list,train_list= MKM(data_X,data_y,1,'precomputed',2)\n",
    "        accu_score_temp.append(MKM__test(data_test_X,data_test_y,i,1,KPCA_list,FS_list,w_list,train_list,model))\n",
    "        \n",
    "        model, KPCA_list ,FS_list,w_list = MKM(data_X,data_y,i,kernel = 'linear')\n",
    "        accu_score_temp.append(MKM__test(data_test_X,data_test_y,i,\n",
    "                                        KPCA_list = KPCA_list,FS_list = FS_list,\n",
    "                                        w_list = w_list,MKM = model))\n",
    "    accu_score_1.append(np.round(sum(accu_score_temp)/len(accu_score_temp),3))\n",
    "    print('----------------------------------------------------------------')"
   ]
  },
  {
   "cell_type": "code",
   "execution_count": 40,
   "metadata": {
    "scrolled": true
   },
   "outputs": [
    {
     "name": "stdout",
     "output_type": "stream",
     "text": [
      "[0.561, 0.182, 0.404, 0.246, 0.495]\n"
     ]
    }
   ],
   "source": [
    "print(accu_score_temp)"
   ]
  },
  {
   "cell_type": "code",
   "execution_count": 41,
   "metadata": {},
   "outputs": [],
   "source": [
    "workbook = xlwt.Workbook()  # 新建一个工作簿\n",
    "sheet = workbook.add_sheet('KPCA(arccosine2)+LMNN')\n",
    "for i in range(len(accu_score_temp)):\n",
    "    sheet.write(0,i,accu_score_temp[i])\n",
    "workbook.save('KPCA(arccosine2)+LMNN-layer1.xls') "
   ]
  }
 ],
 "metadata": {
  "kernelspec": {
   "display_name": "Python 3",
   "language": "python",
   "name": "python3"
  },
  "language_info": {
   "codemirror_mode": {
    "name": "ipython",
    "version": 3
   },
   "file_extension": ".py",
   "mimetype": "text/x-python",
   "name": "python",
   "nbconvert_exporter": "python",
   "pygments_lexer": "ipython3",
   "version": "3.7.4"
  }
 },
 "nbformat": 4,
 "nbformat_minor": 4
}
