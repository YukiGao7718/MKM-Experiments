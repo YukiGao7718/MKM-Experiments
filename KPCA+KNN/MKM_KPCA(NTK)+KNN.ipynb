{
 "cells": [
  {
   "cell_type": "code",
   "execution_count": 3,
   "metadata": {},
   "outputs": [
    {
     "ename": "ModuleNotFoundError",
     "evalue": "jax requires jaxlib to be installed. See https://github.com/google/jax#installation for installation instructions.",
     "output_type": "error",
     "traceback": [
      "\u001b[1;31m---------------------------------------------------------------------------\u001b[0m",
      "\u001b[1;31mModuleNotFoundError\u001b[0m                       Traceback (most recent call last)",
      "\u001b[1;32m~\\Anaconda3\\lib\\site-packages\\jax\\lib\\__init__.py\u001b[0m in \u001b[0;36m<module>\u001b[1;34m\u001b[0m\n\u001b[0;32m     26\u001b[0m \u001b[1;32mtry\u001b[0m\u001b[1;33m:\u001b[0m\u001b[1;33m\u001b[0m\u001b[1;33m\u001b[0m\u001b[0m\n\u001b[1;32m---> 27\u001b[1;33m   \u001b[1;32mimport\u001b[0m \u001b[0mjaxlib\u001b[0m\u001b[1;33m\u001b[0m\u001b[1;33m\u001b[0m\u001b[0m\n\u001b[0m\u001b[0;32m     28\u001b[0m \u001b[1;32mexcept\u001b[0m \u001b[0mModuleNotFoundError\u001b[0m \u001b[1;32mas\u001b[0m \u001b[0merr\u001b[0m\u001b[1;33m:\u001b[0m\u001b[1;33m\u001b[0m\u001b[1;33m\u001b[0m\u001b[0m\n",
      "\u001b[1;31mModuleNotFoundError\u001b[0m: No module named 'jaxlib'",
      "\nThe above exception was the direct cause of the following exception:\n",
      "\u001b[1;31mModuleNotFoundError\u001b[0m                       Traceback (most recent call last)",
      "\u001b[1;32m<ipython-input-3-14e27725ee05>\u001b[0m in \u001b[0;36m<module>\u001b[1;34m\u001b[0m\n\u001b[0;32m     10\u001b[0m \u001b[1;32mimport\u001b[0m \u001b[0mseaborn\u001b[0m \u001b[1;32mas\u001b[0m \u001b[0msns\u001b[0m\u001b[1;33m\u001b[0m\u001b[1;33m\u001b[0m\u001b[0m\n\u001b[0;32m     11\u001b[0m \u001b[1;32mfrom\u001b[0m \u001b[0msklearn\u001b[0m\u001b[1;33m.\u001b[0m\u001b[0mfeature_selection\u001b[0m \u001b[1;32mimport\u001b[0m \u001b[0mVarianceThreshold\u001b[0m\u001b[1;33m,\u001b[0m\u001b[0mSelectKBest\u001b[0m\u001b[1;33m,\u001b[0m\u001b[0mmutual_info_classif\u001b[0m\u001b[1;33m\u001b[0m\u001b[1;33m\u001b[0m\u001b[0m\n\u001b[1;32m---> 12\u001b[1;33m \u001b[1;32mfrom\u001b[0m \u001b[0mneural_tangents\u001b[0m \u001b[1;32mimport\u001b[0m \u001b[0mstax\u001b[0m\u001b[1;33m\u001b[0m\u001b[1;33m\u001b[0m\u001b[0m\n\u001b[0m",
      "\u001b[1;32m~\\Anaconda3\\lib\\site-packages\\neural_tangents\\__init__.py\u001b[0m in \u001b[0;36m<module>\u001b[1;34m\u001b[0m\n\u001b[0;32m     20\u001b[0m \u001b[1;33m\u001b[0m\u001b[0m\n\u001b[0;32m     21\u001b[0m \u001b[1;33m\u001b[0m\u001b[0m\n\u001b[1;32m---> 22\u001b[1;33m \u001b[1;32mfrom\u001b[0m \u001b[0mneural_tangents\u001b[0m \u001b[1;32mimport\u001b[0m \u001b[0mpredict\u001b[0m\u001b[1;33m\u001b[0m\u001b[1;33m\u001b[0m\u001b[0m\n\u001b[0m\u001b[0;32m     23\u001b[0m \u001b[1;32mfrom\u001b[0m \u001b[0mneural_tangents\u001b[0m \u001b[1;32mimport\u001b[0m \u001b[0mstax\u001b[0m\u001b[1;33m\u001b[0m\u001b[1;33m\u001b[0m\u001b[0m\n\u001b[0;32m     24\u001b[0m \u001b[1;32mfrom\u001b[0m \u001b[0mneural_tangents\u001b[0m\u001b[1;33m.\u001b[0m\u001b[0mutils\u001b[0m\u001b[1;33m.\u001b[0m\u001b[0mbatch\u001b[0m \u001b[1;32mimport\u001b[0m \u001b[0mbatch\u001b[0m\u001b[1;33m\u001b[0m\u001b[1;33m\u001b[0m\u001b[0m\n",
      "\u001b[1;32m~\\Anaconda3\\lib\\site-packages\\neural_tangents\\predict.py\u001b[0m in \u001b[0;36m<module>\u001b[1;34m\u001b[0m\n\u001b[0;32m     29\u001b[0m \u001b[1;33m\u001b[0m\u001b[0m\n\u001b[0;32m     30\u001b[0m \u001b[1;32mimport\u001b[0m \u001b[0mcollections\u001b[0m\u001b[1;33m\u001b[0m\u001b[1;33m\u001b[0m\u001b[0m\n\u001b[1;32m---> 31\u001b[1;33m \u001b[1;32mimport\u001b[0m \u001b[0mjax\u001b[0m\u001b[1;33m\u001b[0m\u001b[1;33m\u001b[0m\u001b[0m\n\u001b[0m\u001b[0;32m     32\u001b[0m \u001b[1;32mfrom\u001b[0m \u001b[0mjax\u001b[0m\u001b[1;33m.\u001b[0m\u001b[0mapi\u001b[0m \u001b[1;32mimport\u001b[0m \u001b[0mgrad\u001b[0m\u001b[1;33m\u001b[0m\u001b[1;33m\u001b[0m\u001b[0m\n\u001b[0;32m     33\u001b[0m \u001b[1;32mfrom\u001b[0m \u001b[0mjax\u001b[0m\u001b[1;33m.\u001b[0m\u001b[0mexperimental\u001b[0m \u001b[1;32mimport\u001b[0m \u001b[0mode\u001b[0m\u001b[1;33m\u001b[0m\u001b[1;33m\u001b[0m\u001b[0m\n",
      "\u001b[1;32m~\\Anaconda3\\lib\\site-packages\\jax\\__init__.py\u001b[0m in \u001b[0;36m<module>\u001b[1;34m\u001b[0m\n\u001b[0;32m     35\u001b[0m \u001b[1;31m# We want the exported object to be the class, so we first import the module\u001b[0m\u001b[1;33m\u001b[0m\u001b[1;33m\u001b[0m\u001b[1;33m\u001b[0m\u001b[0m\n\u001b[0;32m     36\u001b[0m \u001b[1;31m# to make sure a later import doesn't overwrite the class.\u001b[0m\u001b[1;33m\u001b[0m\u001b[1;33m\u001b[0m\u001b[1;33m\u001b[0m\u001b[0m\n\u001b[1;32m---> 37\u001b[1;33m \u001b[1;32mfrom\u001b[0m \u001b[1;33m.\u001b[0m \u001b[1;32mimport\u001b[0m \u001b[0mconfig\u001b[0m \u001b[1;32mas\u001b[0m \u001b[0m_config_module\u001b[0m\u001b[1;33m\u001b[0m\u001b[1;33m\u001b[0m\u001b[0m\n\u001b[0m\u001b[0;32m     38\u001b[0m \u001b[1;32mdel\u001b[0m \u001b[0m_config_module\u001b[0m\u001b[1;33m\u001b[0m\u001b[1;33m\u001b[0m\u001b[0m\n\u001b[0;32m     39\u001b[0m \u001b[1;33m\u001b[0m\u001b[0m\n",
      "\u001b[1;32m~\\Anaconda3\\lib\\site-packages\\jax\\config.py\u001b[0m in \u001b[0;36m<module>\u001b[1;34m\u001b[0m\n\u001b[0;32m     16\u001b[0m \u001b[1;33m\u001b[0m\u001b[0m\n\u001b[0;32m     17\u001b[0m \u001b[1;31m# flake8: noqa: F401\u001b[0m\u001b[1;33m\u001b[0m\u001b[1;33m\u001b[0m\u001b[1;33m\u001b[0m\u001b[0m\n\u001b[1;32m---> 18\u001b[1;33m \u001b[1;32mfrom\u001b[0m \u001b[0mjax\u001b[0m\u001b[1;33m.\u001b[0m\u001b[0m_src\u001b[0m\u001b[1;33m.\u001b[0m\u001b[0mconfig\u001b[0m \u001b[1;32mimport\u001b[0m \u001b[0mconfig\u001b[0m\u001b[1;33m\u001b[0m\u001b[1;33m\u001b[0m\u001b[0m\n\u001b[0m",
      "\u001b[1;32m~\\Anaconda3\\lib\\site-packages\\jax\\_src\\config.py\u001b[0m in \u001b[0;36m<module>\u001b[1;34m\u001b[0m\n\u001b[0;32m     24\u001b[0m \u001b[1;32mimport\u001b[0m \u001b[0mwarnings\u001b[0m\u001b[1;33m\u001b[0m\u001b[1;33m\u001b[0m\u001b[0m\n\u001b[0;32m     25\u001b[0m \u001b[1;33m\u001b[0m\u001b[0m\n\u001b[1;32m---> 26\u001b[1;33m \u001b[1;32mfrom\u001b[0m \u001b[0mjax\u001b[0m \u001b[1;32mimport\u001b[0m \u001b[0mlib\u001b[0m\u001b[1;33m\u001b[0m\u001b[1;33m\u001b[0m\u001b[0m\n\u001b[0m\u001b[0;32m     27\u001b[0m \u001b[1;32mfrom\u001b[0m \u001b[0mjax\u001b[0m\u001b[1;33m.\u001b[0m\u001b[0mlib\u001b[0m \u001b[1;32mimport\u001b[0m \u001b[0mjax_jit\u001b[0m\u001b[1;33m\u001b[0m\u001b[1;33m\u001b[0m\u001b[0m\n\u001b[0;32m     28\u001b[0m \u001b[1;33m\u001b[0m\u001b[0m\n",
      "\u001b[1;32m~\\Anaconda3\\lib\\site-packages\\jax\\lib\\__init__.py\u001b[0m in \u001b[0;36m<module>\u001b[1;34m\u001b[0m\n\u001b[0;32m     30\u001b[0m     \u001b[1;34m'jax requires jaxlib to be installed. See '\u001b[0m\u001b[1;33m\u001b[0m\u001b[1;33m\u001b[0m\u001b[0m\n\u001b[0;32m     31\u001b[0m     \u001b[1;34m'https://github.com/google/jax#installation for installation instructions.'\u001b[0m\u001b[1;33m\u001b[0m\u001b[1;33m\u001b[0m\u001b[0m\n\u001b[1;32m---> 32\u001b[1;33m     ) from err\n\u001b[0m\u001b[0;32m     33\u001b[0m \u001b[1;33m\u001b[0m\u001b[0m\n\u001b[0;32m     34\u001b[0m \u001b[1;32mfrom\u001b[0m \u001b[0mjax\u001b[0m\u001b[1;33m.\u001b[0m\u001b[0mversion\u001b[0m \u001b[1;32mimport\u001b[0m \u001b[0m_minimum_jaxlib_version\u001b[0m \u001b[1;32mas\u001b[0m \u001b[0m_minimum_jaxlib_version_str\u001b[0m\u001b[1;33m\u001b[0m\u001b[1;33m\u001b[0m\u001b[0m\n",
      "\u001b[1;31mModuleNotFoundError\u001b[0m: jax requires jaxlib to be installed. See https://github.com/google/jax#installation for installation instructions."
     ]
    }
   ],
   "source": [
    "from sklearn.decomposition import KernelPCA\n",
    "from sklearn.neighbors import KNeighborsClassifier as KNN\n",
    "from sklearn.metrics import f1_score,accuracy_score\n",
    "from sklearn.model_selection import cross_validate\n",
    "import pandas as pd\n",
    "import numpy as np\n",
    "\n",
    "import matplotlib.pyplot as plt\n",
    "from matplotlib import image\n",
    "import seaborn as sns\n",
    "from sklearn.feature_selection import VarianceThreshold,SelectKBest,mutual_info_classif\n",
    "from neural_tangents import stax"
   ]
  },
  {
   "cell_type": "code",
   "execution_count": null,
   "metadata": {},
   "outputs": [],
   "source": [
    "data = pd.read_csv('mnist_test.csv',header = None).iloc[5000:,:].sample(n=4000)\n",
    "data_X = data.iloc[:,1:].to_numpy()\n",
    "data_y = data.iloc[:,0].to_numpy()\n",
    "data_test = pd.read_csv('mnist_test.csv',header = None).iloc[:5000,:].sample(n=4000)\n",
    "data_test_X = data_test.iloc[:,1:].to_numpy()\n",
    "data_test_y = data_test.iloc[:,0].to_numpy()"
   ]
  },
  {
   "cell_type": "code",
   "execution_count": null,
   "metadata": {},
   "outputs": [],
   "source": [
    "#input: the data matrix\n",
    "#return: NTK kernel matrix\n",
    "def NTK(X,Y):\n",
    "    # specify the NN to compute NTK\n",
    "    init_fn, apply_fn, kernel_fn = stax.serial(\n",
    "    stax.Dense(512), stax.Relu(),\n",
    "    stax.Dense(512), stax.Relu(),\n",
    "    stax.Dense(1)\n",
    "    )\n",
    "    # compute kernel matrix\n",
    "    ntk = kernel_fn(X, Y, 'ntk')\n",
    "    print(ntk.shape)\n",
    "    return k_matrix"
   ]
  },
  {
   "cell_type": "code",
   "execution_count": null,
   "metadata": {},
   "outputs": [],
   "source": []
  },
  {
   "cell_type": "code",
   "execution_count": null,
   "metadata": {},
   "outputs": [],
   "source": [
    "# parameter X: data array of shape(n_sample,n_feature)\n",
    "# parameter y: labels of shape(n_samples,)\n",
    "# parameter kernel: kernerl used for each layer (here is fixed for arccosine)\n",
    "# parameter classifier: classifier used for the output layer\n",
    "# parameter arc_order: the order of activation function and arccosine kernel\n",
    "# return the trained MKM model\n",
    "\n",
    "# classified by KNN with cv\n",
    "\n",
    "def MKM(X,y,l,kernel,classifier,arc_order,layer = 1):\n",
    "    New_X,New_y = X,y\n",
    "    print(New_X.shape)\n",
    "    train_list = []\n",
    "    KPCA_list = []\n",
    "    FS_list = []\n",
    "    w_list = []\n",
    "    for i in range(l):\n",
    "        size = New_X.shape[1]\n",
    "        # K-layer\n",
    "        train_list.append(New_X)\n",
    "        gram_train = ArcCosineKernel(New_X,New_X,arc_order)\n",
    "        KPCA = KernelPCA(n_components = size-80, kernel = kernel)\n",
    "        K_new_X,K_new_y = KPCA.fit_transform(gram_train),New_y\n",
    "        # Bookkeeping the KPCA model used in each layer\n",
    "        KPCA_list.append(KPCA)\n",
    "        # P-layer\n",
    "#         w = cv_w(K_new_X,K_new_y,range(1,4),range(10,30,5))\n",
    "#         w_list.append(w)\n",
    "#         P_new_X,P_new_y,dic_kept = mutual_info_FS(K_new_X,K_new_y,size-w)\n",
    "#         P_new_X,P_new_y,dic_kept = mutual_info_FS(K_new_X,K_new_y,size-100)\n",
    "#         P_new_X,P_new_y,dic_kept = mutual_info_FS(K_new_X,K_new_y,200)\n",
    "#         FS_list.append(dic_kept)\n",
    "#         New_X,New_y = P_new_X,P_new_y\n",
    "        New_X,New_y = K_new_X,K_new_y\n",
    "        print('Train Layer {} Done!'.format(i+1))\n",
    "        print('Data has the shape {}'.format(New_X.shape))\n",
    "    final_X, final_y =  New_X, New_y\n",
    "    model = classifier.fit(final_X, final_y)\n",
    "    print('Model has been successfully trained!')\n",
    "    print('----------------------------------------------------------------------')\n",
    "    return model,KPCA_list,FS_list,w_list,train_list"
   ]
  },
  {
   "cell_type": "code",
   "execution_count": null,
   "metadata": {},
   "outputs": [],
   "source": [
    "# parameter X: data array of shape(n_sample,n_feature)\n",
    "# parameter y: labels of shape(n_samples,)\n",
    "# parameter data_test_X: data array of shape(n_sample,n_feature)\n",
    "# parameter data_test_y: labels of shape(n_samples,)\n",
    "# parameter l: the number of layers of kernel machines\n",
    "# parameter MKM: the trained MKM model\n",
    "# parameter kernel: kernerl used for each layer (here is fixed for arccosine)\n",
    "# parameter arc_order: the order of activation function and arccosine kernel\n",
    "# return accuracy score for test set\n",
    "\n",
    "# classified by KNN with cv\n",
    "\n",
    "def MKM__test(X,y,l,arc_order,KPCA_list,FS_list,w_list,train_list,MKM):\n",
    "    New_X,New_y = X,y\n",
    "    for i in range(l):\n",
    "        size = New_X.shape[1]\n",
    "        dic_feature = {}\n",
    "        for f in range(size):\n",
    "            dic_feature[f] = New_X[:,f]\n",
    "        # K-layer\n",
    "        gram_test = ArcCosineKernel(New_X,train_list[i],arc_order)\n",
    "        K_new_X,K_new_y = KPCA_list[i].transform(gram_test),New_y\n",
    "        # P-layer\n",
    "#         w = cv_w(K_new_X,K_new_y,range(1,15),range(10,300))\n",
    "#         P_new_X,P_new_y = mutual_info_FS(K_new_X,K_new_y,w)\n",
    "#         P_new_X,P_new_y = mutual_info_FS(K_new_X,K_new_y,209)\n",
    "#         for key in FS_list[i].keys():\n",
    "#             FS_list[i][key] = dic_feature[key]\n",
    "#         temp = np.array(list(FS_list[i].values())).T[:,:size-80-w_list[i]]\n",
    "#         temp = np.array(list(FS_list[i].values())).T[:,:size-100]\n",
    "#         P_new_X,P_new_y = temp,K_new_y\n",
    "#         New_X,New_y = P_new_X,P_new_y\n",
    "        New_X,New_y = K_new_X,K_new_y\n",
    "        print('Test Layer {} Done!'.format(i+1))\n",
    "        print('Data has the shape {}'.format(New_X.shape))\n",
    "    final_X, final_y =  New_X, New_y\n",
    "    predict_y = MKM.predict(final_X)\n",
    "    print(accuracy_score(final_y,predict_y))\n",
    "    print('Test is finished!')\n",
    "    print('----------------------------------------------------------------------')\n",
    "    return accuracy_score(final_y,predict_y)"
   ]
  },
  {
   "cell_type": "code",
   "execution_count": null,
   "metadata": {},
   "outputs": [],
   "source": [
    "model, KPCA_list ,FS_list,w_list,train_list= MKM(data_X,data_y,1,'precomputed',KNN(10),0)"
   ]
  },
  {
   "cell_type": "code",
   "execution_count": null,
   "metadata": {},
   "outputs": [],
   "source": [
    "MKM__test(data_test_X,data_test_y,1,0,KPCA_list,FS_list,w_list,train_list,model)"
   ]
  }
 ],
 "metadata": {
  "kernelspec": {
   "display_name": "Python 3",
   "language": "python",
   "name": "python3"
  },
  "language_info": {
   "codemirror_mode": {
    "name": "ipython",
    "version": 3
   },
   "file_extension": ".py",
   "mimetype": "text/x-python",
   "name": "python",
   "nbconvert_exporter": "python",
   "pygments_lexer": "ipython3",
   "version": "3.7.4"
  }
 },
 "nbformat": 4,
 "nbformat_minor": 4
}
