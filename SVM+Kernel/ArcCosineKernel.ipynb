{
 "cells": [
  {
   "cell_type": "code",
   "execution_count": 1,
   "metadata": {},
   "outputs": [],
   "source": [
    "# import the dataset\n",
    "# from keras.datasets import mnist\n",
    "import pandas as pd\n",
    "import numpy as np\n",
    "from sklearn.metrics.pairwise import pairwise_kernels,cosine_similarity"
   ]
  },
  {
   "cell_type": "code",
   "execution_count": 3,
   "metadata": {},
   "outputs": [
    {
     "name": "stdout",
     "output_type": "stream",
     "text": [
      "(5000, 784)\n"
     ]
    }
   ],
   "source": [
    "data = pd.read_csv('mnist_test.csv',header = None).iloc[:5000,1:].to_numpy()\n",
    "print(data.shape)"
   ]
  },
  {
   "cell_type": "code",
   "execution_count": 35,
   "metadata": {},
   "outputs": [],
   "source": [
    "# parameter X: ndarray of shape (n_sample, n_feature)\n",
    "# parameter n: n-th order of arc-cosine kernel and it's also the dimension of activation used to derive the\n",
    "# kernel.\n",
    "# return norm_matrix of shape (n_sample,n_sample): the 1st part of explicit expression of arc-cosine kernel\n",
    "def CalNorm(X,Y,n):\n",
    "    size_X = np.array(X).shape[0]\n",
    "    size_Y = np.array(Y).shape[0]\n",
    "    pi_matrix = np.ones((size_X,size_Y))*(1/np.pi)\n",
    "    \n",
    "    x = np.linalg.norm(X,axis=1)\n",
    "    y = np.linalg.norm(Y,axis=1)\n",
    "    x = np.tile(x,(1,size_Y)).reshape(size_X,size_Y)\n",
    "    y = np.tile(y,(1,size_X)).reshape(size_X,size_Y)\n",
    "    norm_single_matrix = np.multiply(x,y)   \n",
    "    norm_matrix = np.multiply(x,y)\n",
    "    if n == 0:\n",
    "        return pi_matrix\n",
    "    else:\n",
    "        for i in range(n-1):\n",
    "            norm_matrix = np.multiply(norm_matrix,norm_single_matrix)\n",
    "        norm_matrix = np.multiply(pi_matrix,norm_matrix)\n",
    "        return norm_matrix    "
   ]
  },
  {
   "cell_type": "code",
   "execution_count": 2,
   "metadata": {},
   "outputs": [],
   "source": [
    "# parameter X: ndarray of shape (n_sample, n_feature)\n",
    "# return theta matrix of shape (n_sample,n_sample)\n",
    "def CalTheta(X,Y):\n",
    "    return np.arccos(np.around(cosine_similarity(X,Y),8))"
   ]
  },
  {
   "cell_type": "code",
   "execution_count": 30,
   "metadata": {},
   "outputs": [],
   "source": [
    "# parameter X: ndarray of shape (n_sample, n_feature)\n",
    "# parameter n: n-th order of arc-cosine kernel and it's also the dimension of activation used to derive the\n",
    "# kernel.\n",
    "def Jn(X,Y,n):\n",
    "    theta_matrix = CalTheta(X,Y)\n",
    "    size_X = np.array(X).shape[0]\n",
    "    size_Y = np.array(Y).shape[0]\n",
    "    pi_matrix = np.ones((size_X,size_Y))*(np.pi)\n",
    "    if n == 0:\n",
    "        return pi_matrix-theta_matrix\n",
    "    elif n == 1:\n",
    "        return np.sin(theta_matrix) + np.multiply((pi_matrix-theta_matrix),np.cos(theta_matrix))\n",
    "    elif n == 2:\n",
    "        cos_sqr_matrix = np.multiply(np.cos(theta_matrix),np.cos(theta_matrix))\n",
    "        ones = np.ones(cos_sqr_matrix.shape)\n",
    "        return 3*np.multiply(np.sin(theta_matrix),np.cos(theta_matrix)) + np.multiply((pi_matrix-theta_matrix),(ones + 2*cos_sqr_matrix))\n",
    "    else:\n",
    "        print('The order is out of range!')\n",
    "    "
   ]
  },
  {
   "cell_type": "code",
   "execution_count": 33,
   "metadata": {},
   "outputs": [],
   "source": [
    "# procedure: element-wise multiply the 4 parts together to get kernel matrix\n",
    "# parameter X: data array of shape (n_sample, n_feature)\n",
    "# parameter n: n-th order of arc-cosine kernel and it's also the dimension of activation used to derive the\n",
    "# kernel.\n",
    "# return arc_cos_kmatrix: the resulting kernel matrix\n",
    "def ArcCosineKernel(X,Y,n):\n",
    "    arc_cos_kmatrix = np.multiply(CalNorm(X,Y,n),Jn(X,Y,n))\n",
    "#     arc_cos_kmatrix = np.multiply(np.multiply(np.multiply(CalNorm(X,n),\n",
    "#                                 CalSin(X,n)),CalSinDeri(X,n)),CalPiSin(X,n))\n",
    "    print(arc_cos_kmatrix.shape)\n",
    "    return arc_cos_kmatrix  "
   ]
  },
  {
   "cell_type": "code",
   "execution_count": 36,
   "metadata": {
    "scrolled": false
   },
   "outputs": [
    {
     "name": "stdout",
     "output_type": "stream",
     "text": [
      "(3, 2)\n",
      "[[1.         1.34562278]\n",
      " [0.31830989 1.34562278]\n",
      " [0.31830989 2.0583316 ]]\n"
     ]
    }
   ],
   "source": [
    "X = [[1,0,0],\n",
    "     [0,1,0],\n",
    "     [0,0,1]]\n",
    "Y = [[1,0,0],\n",
    "     [1,1,2]]\n",
    "print(ArcCosineKernel(X,Y,1))"
   ]
  },
  {
   "cell_type": "code",
   "execution_count": 6,
   "metadata": {},
   "outputs": [],
   "source": [
    "# procedure: element-wise multiply the 4 parts together to get kernel matrix\n",
    "# parameter X: data array of shape (n_sample, n_feature)\n",
    "# parameter n: n-th order of arc-cosine kernel and it's also the dimension of activation used to derive the\n",
    "# kernel.\n",
    "# return arc_cos_kmatrix: the resulting kernel matrix\n",
    "def ArcCosineKernel0(X,Y):\n",
    "    arc_cos_kmatrix = np.multiply(CalNorm(X,Y,0),Jn(X,Y,0))\n",
    "#     arc_cos_kmatrix = np.multiply(np.multiply(np.multiply(CalNorm(X,n),\n",
    "#                                 CalSin(X,n)),CalSinDeri(X,n)),CalPiSin(X,n))\n",
    "    print(arc_cos_kmatrix.shape)\n",
    "    return arc_cos_kmatrix  "
   ]
  },
  {
   "cell_type": "code",
   "execution_count": 1,
   "metadata": {},
   "outputs": [],
   "source": [
    "# procedure: element-wise multiply the 4 parts together to get kernel matrix\n",
    "# parameter X: data array of shape (n_sample, n_feature)\n",
    "# parameter n: n-th order of arc-cosine kernel and it's also the dimension of activation used to derive the\n",
    "# kernel.\n",
    "# return arc_cos_kmatrix: the resulting kernel matrix\n",
    "def ArcCosineKernel1(X,Y):\n",
    "    arc_cos_kmatrix = np.multiply(CalNorm(X,Y,1),Jn(X,Y,1))\n",
    "#     arc_cos_kmatrix = np.multiply(np.multiply(np.multiply(CalNorm(X,n),\n",
    "#                                 CalSin(X,n)),CalSinDeri(X,n)),CalPiSin(X,n))\n",
    "    print(arc_cos_kmatrix.shape)\n",
    "    return arc_cos_kmatrix  "
   ]
  },
  {
   "cell_type": "code",
   "execution_count": 4,
   "metadata": {},
   "outputs": [],
   "source": [
    "# procedure: element-wise multiply the 4 parts together to get kernel matrix\n",
    "# parameter X: data array of shape (n_sample, n_feature)\n",
    "# parameter n: n-th order of arc-cosine kernel and it's also the dimension of activation used to derive the\n",
    "# kernel.\n",
    "# return arc_cos_kmatrix: the resulting kernel matrix\n",
    "def ArcCosineKernel2(X,Y):\n",
    "    arc_cos_kmatrix = np.multiply(CalNorm(X,Y,2),Jn(X,Y,2))\n",
    "#     arc_cos_kmatrix = np.multiply(np.multiply(np.multiply(CalNorm(X,n),\n",
    "#                                 CalSin(X,n)),CalSinDeri(X,n)),CalPiSin(X,n))\n",
    "    print(arc_cos_kmatrix.shape)\n",
    "    return arc_cos_kmatrix  "
   ]
  },
  {
   "cell_type": "code",
   "execution_count": 11,
   "metadata": {},
   "outputs": [],
   "source": [
    "# parameter layer: composition layers of arccosine kernel\n",
    "# return New_x: the resulting kernel matrix\n",
    "def ArcCosineKernelComp(X,Y,n,layer = 1):\n",
    "    New_X,New_Y = X,Y\n",
    "    for i in range(layer):\n",
    "        temp_X = ArcCosineKernel(New_X,New_Y,n)\n",
    "        New_X = temp_X\n",
    "    return New_X"
   ]
  },
  {
   "cell_type": "code",
   "execution_count": 12,
   "metadata": {
    "collapsed": true
   },
   "outputs": [
    {
     "name": "stdout",
     "output_type": "stream",
     "text": [
      "(5000, 5000)\n",
      "[[2.06520022e+27 1.45832317e+27 1.47485559e+26 ... 1.29201915e+27\n",
      "  9.73155360e+26 7.07201327e+27]\n",
      " [1.45832317e+27 1.50225094e+28 4.76192393e+26 ... 6.69950664e+27\n",
      "  2.45170982e+27 2.10242799e+28]\n",
      " [1.47485559e+26 4.76192393e+26 1.49722340e+26 ... 4.62947673e+26\n",
      "  3.04130995e+26 1.37783077e+27]\n",
      " ...\n",
      " [1.29201915e+27 6.69950664e+27 4.62947673e+26 ... 9.92693423e+27\n",
      "  1.91341651e+27 1.57222305e+28]\n",
      " [9.73155360e+26 2.45170982e+27 3.04130995e+26 ... 1.91341651e+27\n",
      "  3.34394607e+27 7.80357388e+27]\n",
      " [7.07201327e+27 2.10242799e+28 1.37783077e+27 ... 1.57222305e+28\n",
      "  7.80357388e+27 1.91973505e+29]]\n"
     ]
    }
   ],
   "source": [
    "# print(CalNorm(data,0))\n",
    "# print(Jn(data,0))\n",
    "# print(ArcCosineKernel(data,2))\n",
    "print(ArcCosineKernelComp(data,2,layer = 1))"
   ]
  },
  {
   "cell_type": "code",
   "execution_count": null,
   "metadata": {},
   "outputs": [],
   "source": []
  }
 ],
 "metadata": {
  "kernelspec": {
   "display_name": "Python 3",
   "language": "python",
   "name": "python3"
  },
  "language_info": {
   "codemirror_mode": {
    "name": "ipython",
    "version": 3
   },
   "file_extension": ".py",
   "mimetype": "text/x-python",
   "name": "python",
   "nbconvert_exporter": "python",
   "pygments_lexer": "ipython3",
   "version": "3.7.4"
  }
 },
 "nbformat": 4,
 "nbformat_minor": 4
}
