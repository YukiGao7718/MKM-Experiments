{
 "cells": [
  {
   "cell_type": "code",
   "execution_count": 2,
   "metadata": {},
   "outputs": [],
   "source": [
    "from sklearn import svm, datasets\n",
    "import sklearn.model_selection as model_selection\n",
    "from sklearn.metrics import accuracy_score\n",
    "from sklearn.metrics import f1_score\n",
    "import pandas as pd\n",
    "import numpy as np\n",
    "import seaborn as sns\n",
    "import matplotlib.pyplot as plt\n",
    "from ArcCosineKernel import ArcCosineKernel0,ArcCosineKernel1,ArcCosineKernel2"
   ]
  },
  {
   "cell_type": "code",
   "execution_count": 21,
   "metadata": {},
   "outputs": [],
   "source": [
    "data = pd.read_csv('mnist_test.csv',header = None).iloc[5000:,:].sample(n=3000)\n",
    "data_X = data.iloc[:,1:].to_numpy()\n",
    "data_y = data.iloc[:,0].to_numpy()\n",
    "data_test = pd.read_csv('mnist_test.csv',header = None).iloc[:5000,:].sample(n=500)\n",
    "data_test_X = data_test.iloc[:,1:].to_numpy()\n",
    "data_test_y = data_test.iloc[:,0].to_numpy()"
   ]
  },
  {
   "cell_type": "code",
   "execution_count": 21,
   "metadata": {},
   "outputs": [
    {
     "name": "stdout",
     "output_type": "stream",
     "text": [
      "(3000, 3000)\n",
      "(1000, 3000)\n",
      "Accuracy (ArcCosine Kernel):  88.10\n",
      "(3000, 3000)\n",
      "(1000, 3000)\n",
      "Accuracy (ArcCosine Kernel):  86.70\n",
      "(3000, 3000)\n",
      "(1000, 3000)\n",
      "Accuracy (ArcCosine Kernel):  87.60\n",
      "(3000, 3000)\n",
      "(1000, 3000)\n",
      "Accuracy (ArcCosine Kernel):  87.60\n",
      "(3000, 3000)\n",
      "(1000, 3000)\n",
      "Accuracy (ArcCosine Kernel):  86.90\n"
     ]
    }
   ],
   "source": [
    "l0 = []\n",
    "for i in range(5):\n",
    "    data = pd.read_csv('mnist_test.csv',header = None).iloc[5000:,:].sample(n=3000)\n",
    "    data_X = data.iloc[:,1:].to_numpy()\n",
    "    data_y = data.iloc[:,0].to_numpy()\n",
    "    data_test = pd.read_csv('mnist_test.csv',header = None).iloc[:5000,:].sample(n=1000)\n",
    "    data_test_X = data_test.iloc[:,1:].to_numpy()\n",
    "    data_test_y = data_test.iloc[:,0].to_numpy()\n",
    "\n",
    "    gram_train = ArcCosineKernel0(data_X ,data_X)\n",
    "    gram_test = ArcCosineKernel0(data_test_X,data_X)\n",
    "    clf = svm.SVC(kernel='precomputed')\n",
    "    clf.fit(gram_train,data_y)\n",
    "    clf_predict = clf.predict(gram_test)\n",
    "    clf_accuracy = accuracy_score(data_test_y, clf_predict)\n",
    "    l0.append(clf_accuracy)\n",
    "    print('Accuracy (ArcCosine Kernel): ', \"%.2f\" % (clf_accuracy*100))\n",
    "accu_0 = sum(l0)/len(l0)"
   ]
  },
  {
   "cell_type": "code",
   "execution_count": 20,
   "metadata": {
    "scrolled": false
   },
   "outputs": [
    {
     "name": "stdout",
     "output_type": "stream",
     "text": [
      "(3000, 3000)\n",
      "(1000, 3000)\n",
      "Accuracy (ArcCosine Kernel):  15.10\n",
      "(3000, 3000)\n",
      "(1000, 3000)\n",
      "Accuracy (ArcCosine Kernel):  23.80\n",
      "(3000, 3000)\n",
      "(1000, 3000)\n",
      "Accuracy (ArcCosine Kernel):  25.30\n",
      "(3000, 3000)\n",
      "(1000, 3000)\n",
      "Accuracy (ArcCosine Kernel):  48.40\n",
      "(3000, 3000)\n",
      "(1000, 3000)\n",
      "Accuracy (ArcCosine Kernel):  33.90\n"
     ]
    }
   ],
   "source": [
    "l1 = []\n",
    "for i in range(5):\n",
    "    data = pd.read_csv('mnist_test.csv',header = None).iloc[5000:,:].sample(n=3000)\n",
    "    data_X = data.iloc[:,1:].to_numpy()\n",
    "    data_y = data.iloc[:,0].to_numpy()\n",
    "    data_test = pd.read_csv('mnist_test.csv',header = None).iloc[:5000,:].sample(n=1000)\n",
    "    data_test_X = data_test.iloc[:,1:].to_numpy()\n",
    "    data_test_y = data_test.iloc[:,0].to_numpy()\n",
    "\n",
    "    gram_train = ArcCosineKernel1(data_X ,data_X)\n",
    "    gram_test = ArcCosineKernel1(data_test_X,data_X)\n",
    "    clf = svm.SVC(kernel='precomputed')\n",
    "    clf.fit(gram_train,data_y)\n",
    "    clf_predict = clf.predict(gram_test)\n",
    "    clf_accuracy = accuracy_score(data_test_y, clf_predict)\n",
    "    l1.append(clf_accuracy)\n",
    "    print('Accuracy (ArcCosine Kernel): ', \"%.2f\" % (clf_accuracy*100))\n",
    "accu_1 = sum(l1)/len(l1)"
   ]
  },
  {
   "cell_type": "code",
   "execution_count": 19,
   "metadata": {},
   "outputs": [
    {
     "name": "stdout",
     "output_type": "stream",
     "text": [
      "(3000, 3000)\n",
      "(1000, 3000)\n",
      "Accuracy (ArcCosine Kernel):  18.20\n",
      "(3000, 3000)\n",
      "(1000, 3000)\n",
      "Accuracy (ArcCosine Kernel):  17.10\n",
      "(3000, 3000)\n",
      "(1000, 3000)\n",
      "Accuracy (ArcCosine Kernel):  13.70\n",
      "(3000, 3000)\n",
      "(1000, 3000)\n",
      "Accuracy (ArcCosine Kernel):  18.90\n",
      "(3000, 3000)\n",
      "(1000, 3000)\n",
      "Accuracy (ArcCosine Kernel):  9.80\n"
     ]
    }
   ],
   "source": [
    "l2 = []\n",
    "for i in range(5):\n",
    "    data = pd.read_csv('mnist_test.csv',header = None).iloc[5000:,:].sample(n=3000)\n",
    "    data_X = data.iloc[:,1:].to_numpy()\n",
    "    data_y = data.iloc[:,0].to_numpy()\n",
    "    data_test = pd.read_csv('mnist_test.csv',header = None).iloc[:5000,:].sample(n=1000)\n",
    "    data_test_X = data_test.iloc[:,1:].to_numpy()\n",
    "    data_test_y = data_test.iloc[:,0].to_numpy()\n",
    "\n",
    "    gram_train = ArcCosineKernel2(data_X ,data_X)\n",
    "    gram_test = ArcCosineKernel2(data_test_X,data_X)\n",
    "    clf = svm.SVC(kernel='precomputed')\n",
    "    clf.fit(gram_train,data_y)\n",
    "    clf_predict = clf.predict(gram_test)\n",
    "    clf_accuracy = accuracy_score(data_test_y, clf_predict)\n",
    "    l2.append(clf_accuracy)\n",
    "    print('Accuracy (ArcCosine Kernel): ', \"%.2f\" % (clf_accuracy*100))\n",
    "accu_2 = sum(l2)/len(l2)"
   ]
  },
  {
   "cell_type": "code",
   "execution_count": 40,
   "metadata": {
    "scrolled": true
   },
   "outputs": [
    {
     "name": "stdout",
     "output_type": "stream",
     "text": [
      "(3000, 3000)\n",
      "(1000, 3000)\n"
     ]
    },
    {
     "name": "stderr",
     "output_type": "stream",
     "text": [
      "C:\\Users\\Yuki\\Anaconda3\\lib\\site-packages\\sklearn\\utils\\validation.py:760: DataConversionWarning: A column-vector y was passed when a 1d array was expected. Please change the shape of y to (n_samples, ), for example using ravel().\n",
      "  y = column_or_1d(y, warn=True)\n"
     ]
    },
    {
     "name": "stdout",
     "output_type": "stream",
     "text": [
      "Accuracy (ArcCosine Kernel):  66.00\n",
      "(3000, 3000)\n",
      "(1000, 3000)\n"
     ]
    },
    {
     "name": "stderr",
     "output_type": "stream",
     "text": [
      "C:\\Users\\Yuki\\Anaconda3\\lib\\site-packages\\sklearn\\utils\\validation.py:760: DataConversionWarning: A column-vector y was passed when a 1d array was expected. Please change the shape of y to (n_samples, ), for example using ravel().\n",
      "  y = column_or_1d(y, warn=True)\n"
     ]
    },
    {
     "name": "stdout",
     "output_type": "stream",
     "text": [
      "Accuracy (ArcCosine Kernel):  65.30\n",
      "(3000, 3000)\n",
      "(1000, 3000)\n"
     ]
    },
    {
     "name": "stderr",
     "output_type": "stream",
     "text": [
      "C:\\Users\\Yuki\\Anaconda3\\lib\\site-packages\\sklearn\\utils\\validation.py:760: DataConversionWarning: A column-vector y was passed when a 1d array was expected. Please change the shape of y to (n_samples, ), for example using ravel().\n",
      "  y = column_or_1d(y, warn=True)\n"
     ]
    },
    {
     "name": "stdout",
     "output_type": "stream",
     "text": [
      "Accuracy (ArcCosine Kernel):  65.90\n",
      "(3000, 3000)\n",
      "(1000, 3000)\n"
     ]
    },
    {
     "name": "stderr",
     "output_type": "stream",
     "text": [
      "C:\\Users\\Yuki\\Anaconda3\\lib\\site-packages\\sklearn\\utils\\validation.py:760: DataConversionWarning: A column-vector y was passed when a 1d array was expected. Please change the shape of y to (n_samples, ), for example using ravel().\n",
      "  y = column_or_1d(y, warn=True)\n"
     ]
    },
    {
     "name": "stdout",
     "output_type": "stream",
     "text": [
      "Accuracy (ArcCosine Kernel):  65.30\n",
      "(3000, 3000)\n",
      "(1000, 3000)\n"
     ]
    },
    {
     "name": "stderr",
     "output_type": "stream",
     "text": [
      "C:\\Users\\Yuki\\Anaconda3\\lib\\site-packages\\sklearn\\utils\\validation.py:760: DataConversionWarning: A column-vector y was passed when a 1d array was expected. Please change the shape of y to (n_samples, ), for example using ravel().\n",
      "  y = column_or_1d(y, warn=True)\n"
     ]
    },
    {
     "name": "stdout",
     "output_type": "stream",
     "text": [
      "Accuracy (ArcCosine Kernel):  66.50\n"
     ]
    }
   ],
   "source": [
    "l00 = []\n",
    "for i in range(5):\n",
    "    mnist_back_image_train = np.loadtxt('mnist_background_images_train.amat')\n",
    "    # get train image datas\n",
    "    data_X = mnist_back_image_train[80*i:80*i+3000, :-1] / 1.0\n",
    "\n",
    "    # get test image labels\n",
    "    data_y = mnist_back_image_train[80*i:80*i+3000, -1:]\n",
    "\n",
    "    mnist_back_image_test = np.loadtxt('mnist_background_images_test.amat')\n",
    "    # get train image datas\n",
    "    data_test_X = mnist_back_image_test[4000+80*i:80*i+5000, :-1] / 1.0\n",
    "\n",
    "    # get test image labels\n",
    "    data_test_y = mnist_back_image_test[4000+80*i:80*i+5000, -1:]\n",
    "    \n",
    "    gram_train = ArcCosineKernel0(data_X ,data_X)\n",
    "    gram_test = ArcCosineKernel0(data_test_X,data_X)\n",
    "    clf = svm.SVC(kernel='precomputed')\n",
    "    clf.fit(gram_train,data_y)\n",
    "    clf_predict = clf.predict(gram_test)\n",
    "    clf_accuracy = accuracy_score(data_test_y, clf_predict)\n",
    "    l00.append(clf_accuracy)\n",
    "    print('Accuracy (ArcCosine Kernel): ', \"%.2f\" % (clf_accuracy*100))\n",
    "accu_00 = sum(l00)/len(l00)"
   ]
  },
  {
   "cell_type": "code",
   "execution_count": null,
   "metadata": {},
   "outputs": [
    {
     "name": "stdout",
     "output_type": "stream",
     "text": [
      "(3000, 3000)\n",
      "(1000, 3000)\n"
     ]
    },
    {
     "name": "stderr",
     "output_type": "stream",
     "text": [
      "C:\\Users\\Yuki\\Anaconda3\\lib\\site-packages\\sklearn\\utils\\validation.py:760: DataConversionWarning: A column-vector y was passed when a 1d array was expected. Please change the shape of y to (n_samples, ), for example using ravel().\n",
      "  y = column_or_1d(y, warn=True)\n"
     ]
    }
   ],
   "source": [
    "l11 = []\n",
    "for i in range(5):\n",
    "    mnist_back_image_train = np.loadtxt('mnist_background_images_train.amat')\n",
    "    # get train image datas\n",
    "    data_X = mnist_back_image_train[80*i:80*i+3000, :-1] / 1.0\n",
    "\n",
    "    # get test image labels\n",
    "    data_y = mnist_back_image_train[80*i:80*i+3000, -1:]\n",
    "\n",
    "    mnist_back_image_test = np.loadtxt('mnist_background_images_test.amat')\n",
    "    # get train image datas\n",
    "    data_test_X = mnist_back_image_test[4000+80*i:80*i+5000, :-1] / 1.0\n",
    "\n",
    "    # get test image labels\n",
    "    data_test_y = mnist_back_image_test[4000+80*i:80*i+5000, -1:]\n",
    "    \n",
    "    gram_train = ArcCosineKernel1(data_X ,data_X)\n",
    "    gram_test = ArcCosineKernel1(data_test_X,data_X)\n",
    "    clf = svm.SVC(kernel='precomputed')\n",
    "    clf.fit(gram_train,data_y)\n",
    "    clf_predict = clf.predict(gram_test)\n",
    "    clf_accuracy = accuracy_score(data_test_y, clf_predict)\n",
    "    l11.append(clf_accuracy)\n",
    "    print('Accuracy (ArcCosine Kernel): ', \"%.2f\" % (clf_accuracy*100))\n",
    "accu_11 = sum(l11)/len(l11)"
   ]
  },
  {
   "cell_type": "code",
   "execution_count": null,
   "metadata": {},
   "outputs": [],
   "source": [
    "l22 = []\n",
    "for i in range(5):\n",
    "    mnist_back_image_train = np.loadtxt('mnist_background_images_train.amat')\n",
    "    # get train image datas\n",
    "    data_X = mnist_back_image_train[80*i:80*i+3000, :-1] / 1.0\n",
    "\n",
    "    # get test image labels\n",
    "    data_y = mnist_back_image_train[80*i:80*i+3000, -1:]\n",
    "\n",
    "    mnist_back_image_test = np.loadtxt('mnist_background_images_test.amat')\n",
    "    # get train image datas\n",
    "    data_test_X = mnist_back_image_test[4000+80*i:80*i+5000, :-1] / 1.0\n",
    "\n",
    "    # get test image labels\n",
    "    data_test_y = mnist_back_image_test[4000+80*i:80*i+5000, -1:]\n",
    "    \n",
    "    gram_train = ArcCosineKernel2(data_X ,data_X)\n",
    "    gram_test = ArcCosineKernel2(data_test_X,data_X)\n",
    "    clf = svm.SVC(kernel='precomputed')\n",
    "    clf.fit(gram_train,data_y)\n",
    "    clf_predict = clf.predict(gram_test)\n",
    "    clf_accuracy = accuracy_score(data_test_y, clf_predict)\n",
    "    l22.append(clf_accuracy)\n",
    "    print('Accuracy (ArcCosine Kernel): ', \"%.2f\" % (clf_accuracy*100))\n",
    "accu_22 = sum(l22)/len(l22)"
   ]
  },
  {
   "cell_type": "code",
   "execution_count": 3,
   "metadata": {},
   "outputs": [
    {
     "data": {
      "image/png": "[encoded data removed]",
      "text/plain": [
       "<Figure size 720x576 with 1 Axes>"
      ]
     },
     "metadata": {
      "needs_background": "light"
     },
     "output_type": "display_data"
    }
   ],
   "source": [
    "# accu_00,accu_11,accu_22 = 0.65,0.11,0.09\n",
    "# accu_0,accu_1,accu_2 = 0.81,0.29,0.15\n",
    "fig,axes = plt.subplots(figsize = (10,8))\n",
    "plt.plot([0,1,2],[accu_0,accu_1,accu_2])\n",
    "plt.plot([0,1,2],[accu_00,accu_11,accu_22])\n",
    "plt.plot([0,1,2],[accu_0,accu_1,accu_2],'ro',label = 'MNIST')\n",
    "plt.plot([0,1,2],[accu_00,accu_11,accu_22],'yo',label = 'MNIST-BACK-IMAGE')\n",
    "plt.xlabel(r'Arc-Cosine Kernel Order (n)',fontsize = 14)\n",
    "plt.ylabel('Accuracy Score (AVG)',fontsize = 14)\n",
    "plt.title('Arc-Cosine Kernel on Different Datasets')\n",
    "plt.legend(loc = 'upper right',prop={'size': 12})\n",
    "fig.savefig('Arc-Cosine Kernel on Different Datasets',bbox_inches = 'tight',dpi = 100)\n",
    "# plt.hist(data,bins = 3,range = range(0,3))"
   ]
  },
  {
   "cell_type": "code",
   "execution_count": 29,
   "metadata": {},
   "outputs": [],
   "source": [
    "mnist_back_image_train = np.loadtxt('mnist_background_images_train.amat')\n",
    "# get train image datas\n",
    "MBI_train_X = mnist_back_image_train[:3000, :-1] / 1.0\n",
    "\n",
    "# get test image labels\n",
    "MBI_train_y = mnist_back_image_train[:3000, -1:]\n",
    "\n",
    "# print(MBI_train_X.shape)\n",
    "# print(MBI_train_X)\n",
    "# print(MBI_y.shape)\n",
    "\n",
    "mnist_back_image_test = np.loadtxt('mnist_background_images_test.amat')\n",
    "# get train image datas\n",
    "MBI_test_X = mnist_back_image_test[:500, :-1] / 1.0\n",
    "\n",
    "# get test image labels\n",
    "MBI_test_y = mnist_back_image_test[:500, -1:]"
   ]
  },
  {
   "cell_type": "code",
   "execution_count": 50,
   "metadata": {},
   "outputs": [],
   "source": [
    "mnist_back_random_train = np.loadtxt('mnist_background_random_train.amat')\n",
    "# get train image datas\n",
    "MBR_train_X = mnist_back_image_train[:3000, :-1] / 1.0\n",
    "\n",
    "# get test image labels\n",
    "MBR_train_y = mnist_back_image_train[:3000, -1:]\n",
    "\n",
    "# print(MBI_train_X.shape)\n",
    "# print(MBI_train_X)\n",
    "# print(MBI_y.shape)\n",
    "\n",
    "mnist_back_random_test = np.loadtxt('mnist_background_random_test.amat')\n",
    "# get train image datas\n",
    "MBR_test_X = mnist_back_image_test[:500, :-1] / 1.0\n",
    "\n",
    "# get test image labels\n",
    "MBR_test_y = mnist_back_image_test[:500, -1:]"
   ]
  },
  {
   "cell_type": "code",
   "execution_count": null,
   "metadata": {},
   "outputs": [
    {
     "name": "stdout",
     "output_type": "stream",
     "text": [
      "(3000, 3000)\n",
      "(500, 3000)\n"
     ]
    },
    {
     "name": "stderr",
     "output_type": "stream",
     "text": [
      "C:\\Users\\Yuki\\Anaconda3\\lib\\site-packages\\sklearn\\utils\\validation.py:760: DataConversionWarning: A column-vector y was passed when a 1d array was expected. Please change the shape of y to (n_samples, ), for example using ravel().\n",
      "  y = column_or_1d(y, warn=True)\n"
     ]
    }
   ],
   "source": [
    "gram_train = ArcCosineKernel1(MBR_train_X ,MBR_train_X)\n",
    "gram_test = ArcCosineKernel1(MBR_test_X,MBR_train_X)\n",
    "clf = svm.SVC(kernel='precomputed')\n",
    "clf.fit(gram_train,MBR_train_y)\n",
    "clf_predict = clf.predict(gram_test)\n",
    "clf_accuracy = accuracy_score(MBR_test_y, clf_predict)\n",
    "print('Accuracy (ArcCosine Kernel): ', \"%.2f\" % (clf_accuracy*100))"
   ]
  }
 ],
 "metadata": {
  "kernelspec": {
   "display_name": "Python 3",
   "language": "python",
   "name": "python3"
  },
  "language_info": {
   "codemirror_mode": {
    "name": "ipython",
    "version": 3
   },
   "file_extension": ".py",
   "mimetype": "text/x-python",
   "name": "python",
   "nbconvert_exporter": "python",
   "pygments_lexer": "ipython3",
   "version": "3.7.4"
  }
 },
 "nbformat": 4,
 "nbformat_minor": 4
}
